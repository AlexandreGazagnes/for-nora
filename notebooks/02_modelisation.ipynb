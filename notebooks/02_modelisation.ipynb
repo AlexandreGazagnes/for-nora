{
 "cells": [
  {
   "cell_type": "markdown",
   "id": "4ad6a1e2",
   "metadata": {},
   "source": [
    "\n",
    "## Import "
   ]
  },
  {
   "cell_type": "code",
   "execution_count": null,
   "id": "15ef7291",
   "metadata": {
    "ExecuteTime": {
     "end_time": "2023-02-21T17:15:42.643051Z",
     "start_time": "2023-02-21T17:15:42.636297Z"
    }
   },
   "outputs": [],
   "source": [
    "cd .."
   ]
  },
  {
   "cell_type": "code",
   "execution_count": null,
   "id": "3e14b7cf",
   "metadata": {},
   "outputs": [],
   "source": [
    "pwd"
   ]
  },
  {
   "cell_type": "code",
   "execution_count": null,
   "id": "21156818",
   "metadata": {
    "ExecuteTime": {
     "end_time": "2023-02-21T17:15:44.252121Z",
     "start_time": "2023-02-21T17:15:43.059630Z"
    }
   },
   "outputs": [],
   "source": [
    "import os, sys, pickle\n",
    "\n",
    "from IPython.display import display\n",
    "\n",
    "import requests\n",
    "\n",
    "import pandas as pd\n",
    "import numpy as np\n",
    "\n",
    "import matplotlib.pyplot as plt \n",
    "import seaborn as sns\n",
    "sns.set()\n",
    "import plotly.express as px\n",
    "\n",
    "from sklearn.model_selection import * \n",
    "from sklearn.compose import *\n",
    "from sklearn.pipeline import *\n",
    "from sklearn.impute import * \n",
    "from sklearn.preprocessing import * \n",
    "from sklearn.ensemble import * \n",
    "from xgboost import XGBClassifier\n",
    "from lightgbm import LGBMClassifier\n",
    "from sklearn.dummy import DummyClassifier\n",
    "\n",
    "from category_encoders import TargetEncoder\n",
    "\n",
    "# import shap"
   ]
  },
  {
   "cell_type": "markdown",
   "id": "55665d90",
   "metadata": {},
   "source": [
    "## Load data"
   ]
  },
  {
   "cell_type": "code",
   "execution_count": null,
   "id": "24bfc1d7",
   "metadata": {
    "ExecuteTime": {
     "end_time": "2023-02-21T17:15:44.256380Z",
     "start_time": "2023-02-21T17:15:44.254107Z"
    }
   },
   "outputs": [],
   "source": [
    "cleaned = \"./data/cleaned/\""
   ]
  },
  {
   "cell_type": "code",
   "execution_count": null,
   "id": "e73e8f3b",
   "metadata": {
    "ExecuteTime": {
     "end_time": "2023-02-21T17:15:44.267640Z",
     "start_time": "2023-02-21T17:15:44.257688Z"
    }
   },
   "outputs": [],
   "source": [
    "df = pd.read_csv(cleaned+\"df.csv\")"
   ]
  },
  {
   "cell_type": "code",
   "execution_count": null,
   "id": "bdbfd299",
   "metadata": {
    "ExecuteTime": {
     "end_time": "2023-02-21T17:15:44.282125Z",
     "start_time": "2023-02-21T17:15:44.269547Z"
    }
   },
   "outputs": [],
   "source": [
    "df.head()"
   ]
  },
  {
   "cell_type": "markdown",
   "id": "406013d0",
   "metadata": {},
   "source": [
    "## Prepare"
   ]
  },
  {
   "cell_type": "code",
   "execution_count": null,
   "id": "41a8565b",
   "metadata": {
    "ExecuteTime": {
     "end_time": "2023-02-21T17:15:44.829126Z",
     "start_time": "2023-02-21T17:15:44.804616Z"
    }
   },
   "outputs": [],
   "source": [
    "df.head()"
   ]
  },
  {
   "cell_type": "code",
   "execution_count": null,
   "id": "36ad314f",
   "metadata": {
    "ExecuteTime": {
     "end_time": "2023-02-21T17:15:45.004652Z",
     "start_time": "2023-02-21T17:15:44.998143Z"
    }
   },
   "outputs": [],
   "source": [
    "X = df.drop(columns=\"Survived\")\n",
    "y = df.Survived"
   ]
  },
  {
   "cell_type": "code",
   "execution_count": null,
   "id": "ac887b5c",
   "metadata": {
    "ExecuteTime": {
     "end_time": "2023-02-21T17:15:45.220746Z",
     "start_time": "2023-02-21T17:15:45.212607Z"
    }
   },
   "outputs": [],
   "source": [
    "df_train, df_test  = train_test_split(df)"
   ]
  },
  {
   "cell_type": "code",
   "execution_count": null,
   "id": "65b4641a",
   "metadata": {
    "ExecuteTime": {
     "end_time": "2023-02-21T17:15:45.624281Z",
     "start_time": "2023-02-21T17:15:45.608588Z"
    }
   },
   "outputs": [],
   "source": [
    "df_train.head()"
   ]
  },
  {
   "cell_type": "code",
   "execution_count": null,
   "id": "04c2b7e0",
   "metadata": {
    "ExecuteTime": {
     "end_time": "2023-02-21T17:15:45.794201Z",
     "start_time": "2023-02-21T17:15:45.784818Z"
    }
   },
   "outputs": [],
   "source": [
    "df_train.shape"
   ]
  },
  {
   "cell_type": "code",
   "execution_count": null,
   "id": "cf35c51e",
   "metadata": {
    "ExecuteTime": {
     "end_time": "2023-02-21T17:15:46.039086Z",
     "start_time": "2023-02-21T17:15:46.030288Z"
    },
    "scrolled": true
   },
   "outputs": [],
   "source": [
    "df_test.shape"
   ]
  },
  {
   "cell_type": "code",
   "execution_count": null,
   "id": "44757232",
   "metadata": {},
   "outputs": [],
   "source": [
    "y_train = df_train.Survived.values"
   ]
  },
  {
   "cell_type": "code",
   "execution_count": null,
   "id": "199a73fd",
   "metadata": {
    "ExecuteTime": {
     "end_time": "2023-02-21T17:15:46.683995Z",
     "start_time": "2023-02-21T17:15:46.655817Z"
    }
   },
   "outputs": [],
   "source": [
    "# X_train_PassengerId = df_train.PassengerId.values\n",
    "\n",
    "X_train = df_train.drop(columns=[\"Survived\", ], inplace=False)\n",
    "X_train.head()"
   ]
  },
  {
   "cell_type": "code",
   "execution_count": null,
   "id": "4516672e",
   "metadata": {
    "ExecuteTime": {
     "end_time": "2023-02-21T17:15:48.148586Z",
     "start_time": "2023-02-21T17:15:48.137229Z"
    }
   },
   "outputs": [],
   "source": [
    "y_train[:10]"
   ]
  },
  {
   "cell_type": "code",
   "execution_count": null,
   "id": "b6d73f5f",
   "metadata": {
    "ExecuteTime": {
     "end_time": "2023-02-21T17:15:48.310892Z",
     "start_time": "2023-02-21T17:15:48.305515Z"
    }
   },
   "outputs": [],
   "source": [
    "len(y_train)"
   ]
  },
  {
   "cell_type": "code",
   "execution_count": null,
   "id": "76fb57c0",
   "metadata": {
    "ExecuteTime": {
     "end_time": "2023-02-21T17:15:48.527306Z",
     "start_time": "2023-02-21T17:15:48.518367Z"
    }
   },
   "outputs": [],
   "source": [
    "len(X_train)"
   ]
  },
  {
   "cell_type": "code",
   "execution_count": null,
   "id": "4c8a6f56",
   "metadata": {},
   "outputs": [],
   "source": [
    "y_test = df_test.Survived.values\n"
   ]
  },
  {
   "cell_type": "code",
   "execution_count": null,
   "id": "6a488e5b",
   "metadata": {
    "ExecuteTime": {
     "end_time": "2023-02-21T17:15:49.073136Z",
     "start_time": "2023-02-21T17:15:49.053421Z"
    }
   },
   "outputs": [],
   "source": [
    "# X_test_PassengerId = df_test.PassengerId.values\n",
    "X_test = df_test.drop(columns=[\"Survived\" ], inplace=False)\n",
    "X_test.head()"
   ]
  },
  {
   "cell_type": "code",
   "execution_count": null,
   "id": "d75222ea",
   "metadata": {},
   "outputs": [],
   "source": [
    "X_train.select_dtypes(include=np.number).columns"
   ]
  },
  {
   "cell_type": "code",
   "execution_count": null,
   "id": "475d7696",
   "metadata": {},
   "outputs": [],
   "source": [
    "X_train.select_dtypes(exclude=np.number).columns"
   ]
  },
  {
   "attachments": {},
   "cell_type": "markdown",
   "id": "e6f98e3b",
   "metadata": {},
   "source": [
    "## Model"
   ]
  },
  {
   "cell_type": "code",
   "execution_count": null,
   "id": "2ee09cea",
   "metadata": {},
   "outputs": [],
   "source": []
  },
  {
   "cell_type": "code",
   "execution_count": null,
   "id": "f339acf9",
   "metadata": {},
   "outputs": [],
   "source": [
    "preprocessor = ColumnTransformer(transformers=[\n",
    "    (\"num\", \"passthrough\",['Pclass', 'Age', 'SibSp', 'Parch', 'Fare']),\n",
    "    (\"oneHot\", OneHotEncoder( handle_unknown=\"ignore\"), ['Sex', 'Embarked'])\n",
    "    ], remainder=\"drop\")"
   ]
  },
  {
   "cell_type": "code",
   "execution_count": null,
   "id": "876390ac",
   "metadata": {},
   "outputs": [],
   "source": [
    "X_train.head(10)"
   ]
  },
  {
   "cell_type": "code",
   "execution_count": null,
   "id": "3e244d8f",
   "metadata": {},
   "outputs": [],
   "source": [
    "tmp = preprocessor.fit_transform(X_train)\n",
    "pd.DataFrame(tmp).head(10)"
   ]
  },
  {
   "cell_type": "code",
   "execution_count": null,
   "id": "833c3947",
   "metadata": {
    "ExecuteTime": {
     "end_time": "2023-02-21T17:15:49.902143Z",
     "start_time": "2023-02-21T17:15:49.874389Z"
    }
   },
   "outputs": [],
   "source": [
    "imputer = KNNImputer()\n",
    "\n",
    "# X_train = pd.DataFrame(imputer.transform(X_train), columns=X_train.columns)\n",
    "# X_test = pd.DataFrame(imputer.transform(X_test), columns=X_train.columns)\n",
    "# X_train.info()"
   ]
  },
  {
   "cell_type": "code",
   "execution_count": null,
   "id": "d7d6d6f9",
   "metadata": {},
   "outputs": [],
   "source": [
    "pipe = Pipeline([\n",
    "    (\"preprocessor\", preprocessor),\n",
    "    (\"imputer\",imputer),\n",
    "    (\"estimator\", LGBMClassifier())\n",
    "])\n",
    "pipe"
   ]
  },
  {
   "cell_type": "code",
   "execution_count": null,
   "id": "dbca1904",
   "metadata": {},
   "outputs": [],
   "source": [
    "param_grid = {\n",
    "    \"estimator\" : [DummyClassifier(), LGBMClassifier()]\n",
    "    }\n"
   ]
  },
  {
   "cell_type": "code",
   "execution_count": null,
   "id": "37522fce",
   "metadata": {
    "ExecuteTime": {
     "end_time": "2023-02-21T17:15:52.128290Z",
     "start_time": "2023-02-21T17:15:52.124365Z"
    }
   },
   "outputs": [],
   "source": [
    "grid = GridSearchCV(pipe, \n",
    "                    param_grid, \n",
    "                    cv=StratifiedShuffleSplit(n_splits=10, test_size=0.33), \n",
    "                    return_train_score=True, \n",
    "                    n_jobs=-1,\n",
    "                    verbose=1)"
   ]
  },
  {
   "cell_type": "markdown",
   "id": "4e985113",
   "metadata": {},
   "source": [
    "## Train"
   ]
  },
  {
   "cell_type": "code",
   "execution_count": null,
   "id": "4afa4094",
   "metadata": {
    "ExecuteTime": {
     "end_time": "2023-02-21T17:15:59.459171Z",
     "start_time": "2023-02-21T17:15:57.602878Z"
    }
   },
   "outputs": [],
   "source": [
    "grid.fit(X_train, y_train)"
   ]
  },
  {
   "cell_type": "code",
   "execution_count": null,
   "id": "6e5a94b3",
   "metadata": {
    "ExecuteTime": {
     "end_time": "2023-02-21T17:15:59.471621Z",
     "start_time": "2023-02-21T17:15:59.460761Z"
    }
   },
   "outputs": [],
   "source": [
    "res = pd.DataFrame(grid.cv_results_)\n",
    "cols = [i for i in res.columns if (\"split\" not in i) ]\n",
    "res = res.loc[:, cols]\n",
    "res.sort_values(\"mean_test_score\", ascending=False).round(2)"
   ]
  },
  {
   "cell_type": "markdown",
   "id": "d232ff27",
   "metadata": {},
   "source": [
    "## Test"
   ]
  },
  {
   "cell_type": "code",
   "execution_count": null,
   "id": "6c088ded",
   "metadata": {
    "ExecuteTime": {
     "end_time": "2023-02-21T17:16:00.765684Z",
     "start_time": "2023-02-21T17:16:00.738981Z"
    }
   },
   "outputs": [],
   "source": [
    "grid.score(X_train, y_train)"
   ]
  },
  {
   "cell_type": "code",
   "execution_count": null,
   "id": "b59eb0ab",
   "metadata": {
    "ExecuteTime": {
     "end_time": "2023-02-21T17:16:05.174617Z",
     "start_time": "2023-02-21T17:16:05.169667Z"
    }
   },
   "outputs": [],
   "source": [
    "model = grid.best_estimator_\n",
    "model"
   ]
  },
  {
   "cell_type": "code",
   "execution_count": null,
   "id": "acc4870b",
   "metadata": {
    "ExecuteTime": {
     "end_time": "2023-02-21T17:16:07.177712Z",
     "start_time": "2023-02-21T17:16:07.030906Z"
    }
   },
   "outputs": [],
   "source": [
    "model.fit(X_train, y_train)"
   ]
  },
  {
   "cell_type": "code",
   "execution_count": null,
   "id": "e76d361b",
   "metadata": {
    "ExecuteTime": {
     "end_time": "2023-02-21T17:16:07.702201Z",
     "start_time": "2023-02-21T17:16:07.667709Z"
    }
   },
   "outputs": [],
   "source": [
    "model.score(X_test, y_test)"
   ]
  },
  {
   "cell_type": "code",
   "execution_count": null,
   "id": "486d7347",
   "metadata": {},
   "outputs": [],
   "source": [
    "pre = grid.best_estimator_['preprocessor']\n",
    "pre\n"
   ]
  },
  {
   "cell_type": "code",
   "execution_count": null,
   "id": "9566a858",
   "metadata": {},
   "outputs": [],
   "source": [
    "imp = grid.best_estimator_['imputer']\n",
    "imp"
   ]
  },
  {
   "cell_type": "code",
   "execution_count": null,
   "id": "dcacfcc6",
   "metadata": {},
   "outputs": [],
   "source": [
    "est = grid.best_estimator_['estimator']\n",
    "est"
   ]
  },
  {
   "cell_type": "code",
   "execution_count": null,
   "id": "e9c2f729",
   "metadata": {},
   "outputs": [],
   "source": []
  },
  {
   "cell_type": "markdown",
   "id": "67836339",
   "metadata": {},
   "source": [
    "# export"
   ]
  },
  {
   "cell_type": "code",
   "execution_count": null,
   "id": "8ffe61dc",
   "metadata": {
    "ExecuteTime": {
     "end_time": "2023-02-21T17:16:10.839126Z",
     "start_time": "2023-02-21T17:16:10.827887Z"
    }
   },
   "outputs": [],
   "source": [
    "with open(\"./models/model.pk\", \"wb\") as f : \n",
    "    pk = pickle.dumps(model)\n",
    "    f.write(pk)"
   ]
  },
  {
   "cell_type": "code",
   "execution_count": null,
   "id": "8d3d0041",
   "metadata": {},
   "outputs": [],
   "source": [
    "with open(\"./models/preprocessor.pk\", \"wb\") as f : \n",
    "    pk = pickle.dumps(pre)\n",
    "    f.write(pk)"
   ]
  },
  {
   "cell_type": "code",
   "execution_count": null,
   "id": "1216ad2d",
   "metadata": {},
   "outputs": [],
   "source": [
    "with open(\"./models/imputer.pk\", \"wb\") as f : \n",
    "    pk = pickle.dumps(imp)\n",
    "    f.write(pk)"
   ]
  },
  {
   "cell_type": "code",
   "execution_count": null,
   "id": "fdcd1689",
   "metadata": {},
   "outputs": [],
   "source": [
    "with open(\"./models/estimator.pk\", \"wb\") as f : \n",
    "    pk = pickle.dumps(est)\n",
    "    f.write(pk)"
   ]
  },
  {
   "cell_type": "code",
   "execution_count": null,
   "id": "cd0a427c",
   "metadata": {
    "ExecuteTime": {
     "end_time": "2023-02-21T17:16:13.349334Z",
     "start_time": "2023-02-21T17:16:13.343045Z"
    }
   },
   "outputs": [],
   "source": [
    "display(len(X_train))\n",
    "# display(len(X_train_PassengerId))\n",
    "display(len(y_train))"
   ]
  },
  {
   "cell_type": "code",
   "execution_count": null,
   "id": "f03d05f8",
   "metadata": {
    "ExecuteTime": {
     "end_time": "2023-02-21T17:16:14.787580Z",
     "start_time": "2023-02-21T17:16:14.783443Z"
    }
   },
   "outputs": [],
   "source": [
    "len(y_train)"
   ]
  },
  {
   "cell_type": "code",
   "execution_count": null,
   "id": "e385e797",
   "metadata": {
    "ExecuteTime": {
     "end_time": "2023-02-21T17:16:15.248731Z",
     "start_time": "2023-02-21T17:16:15.228133Z"
    }
   },
   "outputs": [],
   "source": [
    "X_train[\"Survived\"] = y_train\n",
    "# X_train[\"PassengerId\"] = X_train_PassengerId\n",
    "X_train.head()"
   ]
  },
  {
   "cell_type": "code",
   "execution_count": null,
   "id": "26dd13a8",
   "metadata": {
    "ExecuteTime": {
     "end_time": "2023-02-21T17:16:15.767447Z",
     "start_time": "2023-02-21T17:16:15.750561Z"
    }
   },
   "outputs": [],
   "source": [
    "X_train.isna().sum()"
   ]
  },
  {
   "cell_type": "code",
   "execution_count": null,
   "id": "93a3a35f",
   "metadata": {
    "ExecuteTime": {
     "end_time": "2023-02-21T17:16:16.294283Z",
     "start_time": "2023-02-21T17:16:16.275758Z"
    }
   },
   "outputs": [],
   "source": [
    "X_train.to_csv(\"./data/cleaned/df_train.csv\", index=False)"
   ]
  },
  {
   "cell_type": "code",
   "execution_count": null,
   "id": "388531f9",
   "metadata": {
    "ExecuteTime": {
     "end_time": "2023-02-21T17:16:16.986829Z",
     "start_time": "2023-02-21T17:16:16.969167Z"
    }
   },
   "outputs": [],
   "source": [
    "X_test[\"Survived\"] = y_test\n",
    "# X_test[\"PassengerId\"] = X_test_PassengerId\n",
    "X_test.head()"
   ]
  },
  {
   "cell_type": "code",
   "execution_count": null,
   "id": "1ced2319",
   "metadata": {
    "ExecuteTime": {
     "end_time": "2023-02-21T17:16:17.477839Z",
     "start_time": "2023-02-21T17:16:17.466513Z"
    }
   },
   "outputs": [],
   "source": [
    "X_test.isna().sum()"
   ]
  },
  {
   "cell_type": "code",
   "execution_count": null,
   "id": "c667ae6f",
   "metadata": {
    "ExecuteTime": {
     "end_time": "2023-02-21T17:16:18.067734Z",
     "start_time": "2023-02-21T17:16:18.053431Z"
    }
   },
   "outputs": [],
   "source": [
    "X_test.to_csv(\"./data/cleaned/df_test.csv\", index=False)"
   ]
  },
  {
   "cell_type": "code",
   "execution_count": null,
   "id": "317dda0a",
   "metadata": {},
   "outputs": [],
   "source": []
  }
 ],
 "metadata": {
  "hide_input": false,
  "kernelspec": {
   "display_name": "env",
   "language": "python",
   "name": "python3"
  },
  "language_info": {
   "codemirror_mode": {
    "name": "ipython",
    "version": 3
   },
   "file_extension": ".py",
   "mimetype": "text/x-python",
   "name": "python",
   "nbconvert_exporter": "python",
   "pygments_lexer": "ipython3",
   "version": "3.8.4"
  },
  "vscode": {
   "interpreter": {
    "hash": "dbd2ca7840966d932f06b43495d3f9f6c0833b5173c09bc41648504419720194"
   }
  }
 },
 "nbformat": 4,
 "nbformat_minor": 5
}

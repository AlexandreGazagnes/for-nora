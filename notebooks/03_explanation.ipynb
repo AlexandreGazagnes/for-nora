{
 "cells": [
  {
   "attachments": {},
   "cell_type": "markdown",
   "id": "73f2c7de",
   "metadata": {},
   "source": [
    "## Import "
   ]
  },
  {
   "cell_type": "code",
   "execution_count": null,
   "id": "5bf48766",
   "metadata": {
    "ExecuteTime": {
     "end_time": "2023-02-21T17:16:35.036865Z",
     "start_time": "2023-02-21T17:16:35.032616Z"
    }
   },
   "outputs": [],
   "source": [
    "cd .."
   ]
  },
  {
   "cell_type": "code",
   "execution_count": null,
   "id": "1fb277ed",
   "metadata": {
    "ExecuteTime": {
     "end_time": "2023-02-21T17:17:52.293122Z",
     "start_time": "2023-02-21T17:17:52.288377Z"
    }
   },
   "outputs": [],
   "source": [
    "pwd"
   ]
  },
  {
   "cell_type": "code",
   "execution_count": null,
   "id": "fffa2fb4",
   "metadata": {
    "ExecuteTime": {
     "end_time": "2023-02-21T17:17:53.579110Z",
     "start_time": "2023-02-21T17:17:53.573808Z"
    }
   },
   "outputs": [],
   "source": [
    "import os, sys, pickle\n",
    "\n",
    "import requests\n",
    "\n",
    "import pandas as pd\n",
    "import numpy as np\n",
    "\n",
    "import matplotlib.pyplot as plt \n",
    "import seaborn as sns\n",
    "sns.set()\n",
    "import plotly.express as px\n",
    "\n",
    "from sklearn.model_selection import * \n",
    "from sklearn.compose import *\n",
    "from sklearn.pipeline import *\n",
    "from sklearn.impute import * \n",
    "from sklearn.preprocessing import * \n",
    "from sklearn.ensemble import * \n",
    "# from xgboost import XGBClassifier\n",
    "\n",
    "import shap"
   ]
  },
  {
   "cell_type": "markdown",
   "id": "b5cc5737",
   "metadata": {},
   "source": [
    "## Load data"
   ]
  },
  {
   "cell_type": "code",
   "execution_count": null,
   "id": "ae06f3cb",
   "metadata": {
    "ExecuteTime": {
     "end_time": "2023-02-21T17:17:54.290507Z",
     "start_time": "2023-02-21T17:17:54.271137Z"
    }
   },
   "outputs": [],
   "source": [
    "train = \"./data/cleaned/df_train.csv\"\n",
    "df_train = pd.read_csv(train)\n",
    "df_train.head()"
   ]
  },
  {
   "cell_type": "code",
   "execution_count": null,
   "id": "3d2cb4e6",
   "metadata": {
    "ExecuteTime": {
     "end_time": "2023-02-21T17:17:54.583796Z",
     "start_time": "2023-02-21T17:17:54.574132Z"
    }
   },
   "outputs": [],
   "source": [
    "test = \"./data/cleaned/df_test.csv\"\n",
    "df_test = pd.read_csv (test)"
   ]
  },
  {
   "cell_type": "code",
   "execution_count": null,
   "id": "a63ce1c5",
   "metadata": {
    "ExecuteTime": {
     "end_time": "2023-02-21T17:17:54.873107Z",
     "start_time": "2023-02-21T17:17:54.866315Z"
    }
   },
   "outputs": [],
   "source": [
    "## Model Load"
   ]
  },
  {
   "cell_type": "code",
   "execution_count": null,
   "id": "a8f75e32",
   "metadata": {
    "ExecuteTime": {
     "end_time": "2023-02-21T17:17:55.121551Z",
     "start_time": "2023-02-21T17:17:55.107810Z"
    }
   },
   "outputs": [],
   "source": [
    "with open(\"./models/model.pk\", \"rb\") as f : \n",
    "    model = pickle.load(f)\n",
    "\n",
    "model"
   ]
  },
  {
   "cell_type": "code",
   "execution_count": null,
   "id": "4c581762",
   "metadata": {},
   "outputs": [],
   "source": [
    "with open(\"./models/preprocessor.pk\", \"rb\") as f : \n",
    "    preprocessor = pickle.load(f)\n",
    "\n",
    "preprocessor"
   ]
  },
  {
   "cell_type": "code",
   "execution_count": null,
   "id": "2f3003c6",
   "metadata": {},
   "outputs": [],
   "source": [
    "with open(\"./models/imputer.pk\", \"rb\") as f : \n",
    "    imputer = pickle.load(f)\n",
    "\n",
    "imputer"
   ]
  },
  {
   "cell_type": "code",
   "execution_count": null,
   "id": "76303c6d",
   "metadata": {},
   "outputs": [],
   "source": [
    "with open(\"./models/estimator.pk\", \"rb\") as f : \n",
    "    estimator = pickle.load(f)\n",
    "\n",
    "estimator"
   ]
  },
  {
   "cell_type": "code",
   "execution_count": null,
   "id": "501efd5c",
   "metadata": {
    "ExecuteTime": {
     "end_time": "2023-02-21T17:17:55.307668Z",
     "start_time": "2023-02-21T17:17:55.296032Z"
    }
   },
   "outputs": [],
   "source": [
    "model"
   ]
  },
  {
   "cell_type": "markdown",
   "id": "c9c8f3a2",
   "metadata": {},
   "source": [
    "# Test model"
   ]
  },
  {
   "cell_type": "code",
   "execution_count": null,
   "id": "ea5af1ae",
   "metadata": {
    "ExecuteTime": {
     "end_time": "2023-02-21T17:17:55.648943Z",
     "start_time": "2023-02-21T17:17:55.616788Z"
    }
   },
   "outputs": [],
   "source": [
    "df_train"
   ]
  },
  {
   "cell_type": "code",
   "execution_count": null,
   "id": "e5f77bfe",
   "metadata": {},
   "outputs": [],
   "source": [
    "X_train = df_train.drop(columns=\"Survived\")\n",
    "X_train"
   ]
  },
  {
   "cell_type": "code",
   "execution_count": null,
   "id": "c099debd",
   "metadata": {
    "ExecuteTime": {
     "end_time": "2023-02-21T17:17:55.790836Z",
     "start_time": "2023-02-21T17:17:55.774490Z"
    }
   },
   "outputs": [],
   "source": [
    "X_train_PassengerId = df_train.PassengerId.values\n",
    "y_train = df_train.Survived.values\n",
    "X_train = df_train.drop(columns=[\"Survived\",], inplace=False)\n",
    "X_train.head()"
   ]
  },
  {
   "cell_type": "code",
   "execution_count": null,
   "id": "fb2f970c",
   "metadata": {
    "ExecuteTime": {
     "end_time": "2023-02-21T17:23:10.752171Z",
     "start_time": "2023-02-21T17:23:10.726769Z"
    }
   },
   "outputs": [],
   "source": [
    "model.predict(X_train)[:10]"
   ]
  },
  {
   "cell_type": "code",
   "execution_count": null,
   "id": "0c32e05c",
   "metadata": {
    "ExecuteTime": {
     "end_time": "2023-02-21T17:17:56.158610Z",
     "start_time": "2023-02-21T17:17:56.125703Z"
    }
   },
   "outputs": [],
   "source": [
    "model.score(X_train, y_train)"
   ]
  },
  {
   "cell_type": "markdown",
   "id": "90e70342",
   "metadata": {},
   "source": [
    "# EXPLAIN"
   ]
  },
  {
   "cell_type": "code",
   "execution_count": null,
   "id": "581f9930",
   "metadata": {
    "ExecuteTime": {
     "end_time": "2023-02-21T17:17:56.709923Z",
     "start_time": "2023-02-21T17:17:56.641112Z"
    }
   },
   "outputs": [],
   "source": [
    "feat = pd.Series(model.feature_importances_, index=X_train.columns)# .sort_values(ascending=False)\n",
    "px.bar(feat)"
   ]
  },
  {
   "cell_type": "code",
   "execution_count": null,
   "id": "db345488",
   "metadata": {},
   "outputs": [],
   "source": [
    "feat = pd.Series(estimator.feature_importances_, index=preprocessor.get_feature_names_out() )# .sort_values(ascending=False)\n",
    "px.bar(feat)"
   ]
  },
  {
   "cell_type": "code",
   "execution_count": null,
   "id": "57ab0552",
   "metadata": {
    "ExecuteTime": {
     "end_time": "2023-02-21T17:17:57.796017Z",
     "start_time": "2023-02-21T17:17:57.732742Z"
    }
   },
   "outputs": [],
   "source": [
    "\n",
    "# feat = pd.Series(model.feature_importances_, index=X_train.columns).sort_values(ascending=False)\n",
    "# px.bar(feat)"
   ]
  },
  {
   "cell_type": "code",
   "execution_count": null,
   "id": "17d2dbad",
   "metadata": {
    "ExecuteTime": {
     "end_time": "2023-02-21T17:17:58.262376Z",
     "start_time": "2023-02-21T17:17:58.232742Z"
    }
   },
   "outputs": [],
   "source": [
    "explain = pd.Series(estimator.feature_importances_, index= estimator.feature_names_in_)\n",
    "explain"
   ]
  },
  {
   "cell_type": "code",
   "execution_count": null,
   "id": "f00f83d2",
   "metadata": {
    "ExecuteTime": {
     "end_time": "2023-02-21T17:17:58.644832Z",
     "start_time": "2023-02-21T17:17:58.616748Z"
    }
   },
   "outputs": [],
   "source": [
    "explain = {k: v.round(2) for v, k in zip(model.feature_importances_, model.feature_names_in_)}\n",
    "explain\n"
   ]
  },
  {
   "cell_type": "code",
   "execution_count": null,
   "id": "ba0739e4",
   "metadata": {
    "ExecuteTime": {
     "end_time": "2023-02-21T17:17:59.863966Z",
     "start_time": "2023-02-21T17:17:59.850569Z"
    }
   },
   "outputs": [],
   "source": [
    "explainer = shap.TreeExplainer(estimator) # Explainer\n",
    "explainer"
   ]
  },
  {
   "cell_type": "code",
   "execution_count": null,
   "id": "a771c4c8",
   "metadata": {
    "ExecuteTime": {
     "end_time": "2023-02-21T17:18:00.478271Z",
     "start_time": "2023-02-21T17:18:00.467163Z"
    }
   },
   "outputs": [],
   "source": [
    "with open(\"./models/shap.pk\", \"wb\") as f : \n",
    "    pk = pickle.dumps(explainer)\n",
    "    f.write(pk)"
   ]
  },
  {
   "cell_type": "code",
   "execution_count": null,
   "id": "e9337f24",
   "metadata": {
    "ExecuteTime": {
     "end_time": "2023-02-21T17:18:03.562994Z",
     "start_time": "2023-02-21T17:18:01.591077Z"
    }
   },
   "outputs": [],
   "source": [
    "shap_values = explainer.shap_values(X_train)\n",
    "shap.summary_plot(shap_values, X_train, plot_type=\"bar\",show=True)"
   ]
  },
  {
   "cell_type": "code",
   "execution_count": null,
   "id": "3677d6fe",
   "metadata": {
    "ExecuteTime": {
     "end_time": "2023-02-21T17:18:03.826461Z",
     "start_time": "2023-02-21T17:18:03.564894Z"
    }
   },
   "outputs": [],
   "source": [
    "fig = shap.summary_plot(shap_values, X_train, show=False)\n",
    "plt.savefig('./assets/shap.png')"
   ]
  },
  {
   "cell_type": "code",
   "execution_count": null,
   "id": "b73c6c5a",
   "metadata": {
    "ExecuteTime": {
     "end_time": "2023-02-21T17:18:03.837632Z",
     "start_time": "2023-02-21T17:18:03.828209Z"
    }
   },
   "outputs": [],
   "source": [
    "shap.initjs()\n"
   ]
  },
  {
   "cell_type": "code",
   "execution_count": null,
   "id": "0b417ad2",
   "metadata": {
    "ExecuteTime": {
     "end_time": "2023-02-21T17:18:03.844541Z",
     "start_time": "2023-02-21T17:18:03.839630Z"
    }
   },
   "outputs": [],
   "source": [
    "X_train.iloc[0]"
   ]
  },
  {
   "cell_type": "code",
   "execution_count": null,
   "id": "ff73ef2b",
   "metadata": {
    "ExecuteTime": {
     "end_time": "2023-02-21T17:18:04.858773Z",
     "start_time": "2023-02-21T17:18:04.852282Z"
    }
   },
   "outputs": [],
   "source": [
    "df_train.iloc[0]"
   ]
  },
  {
   "cell_type": "code",
   "execution_count": null,
   "id": "9c53c353",
   "metadata": {
    "ExecuteTime": {
     "end_time": "2023-02-21T17:19:38.314030Z",
     "start_time": "2023-02-21T17:19:38.306605Z"
    }
   },
   "outputs": [],
   "source": [
    "def extract_vect(\n",
    "    _id: int,\n",
    "    df: pd.DataFrame,\n",
    "    id_col: str = \"PassengerId\",\n",
    "    target_col: str = \"Survived\",\n",
    ") -> tuple:\n",
    "    \"\"\"extract from a df\"\"\"\n",
    "\n",
    "    _id = int(_id)\n",
    "\n",
    "    X = df.copy().loc[df[id_col] == _id]\n",
    "    assert len(X) == 1\n",
    "\n",
    "    id_val = X[id_col].iloc[0]\n",
    "    target_val = X[target_col].iloc[0]\n",
    "\n",
    "    drop_cols = [id_col, target_col]\n",
    "    X = X.drop(columns=drop_cols)\n",
    "    ser = X.iloc[0].to_dict()\n",
    "\n",
    "    return ser, id_val, target_val"
   ]
  },
  {
   "cell_type": "code",
   "execution_count": null,
   "id": "c3884f91",
   "metadata": {
    "ExecuteTime": {
     "end_time": "2023-02-21T17:20:20.298613Z",
     "start_time": "2023-02-21T17:20:20.293060Z"
    }
   },
   "outputs": [],
   "source": [
    "_id = df_train.PassengerId.sample(1).iloc[0]\n",
    "_id"
   ]
  },
  {
   "cell_type": "code",
   "execution_count": null,
   "id": "8e45b366",
   "metadata": {
    "ExecuteTime": {
     "end_time": "2023-02-21T17:20:21.174080Z",
     "start_time": "2023-02-21T17:20:21.169288Z"
    }
   },
   "outputs": [],
   "source": [
    "__X, __Passenger_id, __Survived = extract_vect(_id, df_train)"
   ]
  },
  {
   "cell_type": "code",
   "execution_count": null,
   "id": "6fce89c1",
   "metadata": {
    "ExecuteTime": {
     "end_time": "2023-02-21T17:20:22.195961Z",
     "start_time": "2023-02-21T17:20:22.189623Z"
    }
   },
   "outputs": [],
   "source": [
    "pd.Series(__X)"
   ]
  },
  {
   "cell_type": "code",
   "execution_count": null,
   "id": "f898a725",
   "metadata": {},
   "outputs": [],
   "source": []
  },
  {
   "cell_type": "code",
   "execution_count": null,
   "id": "75484396",
   "metadata": {
    "ExecuteTime": {
     "end_time": "2023-02-21T17:20:23.931008Z",
     "start_time": "2023-02-21T17:20:23.925084Z"
    }
   },
   "outputs": [],
   "source": [
    "shap.force_plot(explainer.expected_value[1], shap_values[1][0,:], pd.Series(__X), show=False)"
   ]
  },
  {
   "cell_type": "code",
   "execution_count": null,
   "id": "ecc2b6e5",
   "metadata": {
    "ExecuteTime": {
     "end_time": "2023-02-21T17:20:24.813159Z",
     "start_time": "2023-02-21T17:20:24.809837Z"
    }
   },
   "outputs": [],
   "source": [
    "shap_false = shap_values[0]\n",
    "shap_true = shap_values[1]"
   ]
  },
  {
   "cell_type": "code",
   "execution_count": null,
   "id": "02e30c87",
   "metadata": {
    "ExecuteTime": {
     "end_time": "2023-02-21T17:20:25.331731Z",
     "start_time": "2023-02-21T17:20:25.315940Z"
    }
   },
   "outputs": [],
   "source": [
    "pd.DataFrame(shap_true, columns=X_train. columns).iloc[0].sort_values(ascending=False).head(5).round(2)"
   ]
  },
  {
   "cell_type": "code",
   "execution_count": null,
   "id": "4d57086c",
   "metadata": {
    "ExecuteTime": {
     "end_time": "2023-02-21T17:20:25.892680Z",
     "start_time": "2023-02-21T17:20:25.872554Z"
    }
   },
   "outputs": [],
   "source": [
    "pd.DataFrame(shap_false, columns=X_train. columns).iloc[0].sort_values(ascending=False).head(5).round(2)"
   ]
  },
  {
   "cell_type": "code",
   "execution_count": null,
   "id": "4b1a8622",
   "metadata": {
    "ExecuteTime": {
     "end_time": "2023-02-21T17:20:26.797947Z",
     "start_time": "2023-02-21T17:20:26.672088Z"
    }
   },
   "outputs": [],
   "source": [
    "!pwd"
   ]
  },
  {
   "cell_type": "code",
   "execution_count": null,
   "id": "dae186e1",
   "metadata": {
    "ExecuteTime": {
     "end_time": "2023-02-21T17:20:28.866249Z",
     "start_time": "2023-02-21T17:20:28.842436Z"
    }
   },
   "outputs": [],
   "source": [
    "plt.savefig('./assets/shap.png')"
   ]
  },
  {
   "cell_type": "code",
   "execution_count": null,
   "id": "edbbfab2",
   "metadata": {
    "ExecuteTime": {
     "end_time": "2023-02-21T17:20:29.988323Z",
     "start_time": "2023-02-21T17:20:29.983200Z"
    }
   },
   "outputs": [],
   "source": [
    "explainer.expected_value[1]"
   ]
  },
  {
   "cell_type": "code",
   "execution_count": null,
   "id": "bd6e3360",
   "metadata": {
    "ExecuteTime": {
     "end_time": "2023-02-21T17:20:30.788302Z",
     "start_time": "2023-02-21T17:20:30.778692Z"
    }
   },
   "outputs": [],
   "source": [
    "shap_values = explainer.shap_values(pd.DataFrame([__X,]))"
   ]
  },
  {
   "cell_type": "code",
   "execution_count": null,
   "id": "2769a9d3",
   "metadata": {
    "ExecuteTime": {
     "end_time": "2023-02-21T17:20:31.328684Z",
     "start_time": "2023-02-21T17:20:31.320016Z"
    }
   },
   "outputs": [],
   "source": [
    "shap_false = shap_values[0]\n",
    "shap_true = shap_values[1]"
   ]
  },
  {
   "cell_type": "code",
   "execution_count": null,
   "id": "5213d579",
   "metadata": {
    "ExecuteTime": {
     "end_time": "2023-02-21T17:20:31.872006Z",
     "start_time": "2023-02-21T17:20:31.859072Z"
    }
   },
   "outputs": [],
   "source": [
    "shap_true = pd.DataFrame(shap_true, columns=X_train. columns).iloc[0].sort_values(ascending=False).head(5).round(2).to_dict()"
   ]
  },
  {
   "cell_type": "code",
   "execution_count": null,
   "id": "55937de5",
   "metadata": {
    "ExecuteTime": {
     "end_time": "2023-02-21T17:20:32.271675Z",
     "start_time": "2023-02-21T17:20:32.262429Z"
    }
   },
   "outputs": [],
   "source": [
    "shap_false = pd.DataFrame(shap_false, columns=X_train. columns).iloc[0].sort_values(ascending=False).head(5).round(2).to_dict()"
   ]
  },
  {
   "cell_type": "code",
   "execution_count": null,
   "id": "8a806f12",
   "metadata": {
    "ExecuteTime": {
     "end_time": "2023-02-21T17:20:33.237217Z",
     "start_time": "2023-02-21T17:20:33.224239Z"
    }
   },
   "outputs": [],
   "source": [
    "pd.DataFrame(shap_values[0])"
   ]
  },
  {
   "cell_type": "code",
   "execution_count": null,
   "id": "049f818b",
   "metadata": {
    "ExecuteTime": {
     "end_time": "2023-02-21T17:20:33.847455Z",
     "start_time": "2023-02-21T17:20:33.818896Z"
    }
   },
   "outputs": [],
   "source": [
    "pd.DataFrame(shap_values[1])"
   ]
  },
  {
   "cell_type": "code",
   "execution_count": null,
   "id": "d3e5383b",
   "metadata": {
    "ExecuteTime": {
     "end_time": "2023-02-21T17:20:34.395606Z",
     "start_time": "2023-02-21T17:20:34.363813Z"
    }
   },
   "outputs": [],
   "source": [
    "pd.DataFrame(shap_values[2])"
   ]
  },
  {
   "cell_type": "code",
   "execution_count": null,
   "id": "1e9eb56f",
   "metadata": {
    "ExecuteTime": {
     "end_time": "2023-02-21T17:20:35.178949Z",
     "start_time": "2023-02-21T17:20:35.173662Z"
    }
   },
   "outputs": [],
   "source": [
    "\"\"\"\n",
    "shap.summary_plot(shap_values, X_train, plot_type=\"bar\",show=False)\n",
    "plt.savefig('grafic.png')\n",
    "\"\"\""
   ]
  },
  {
   "cell_type": "code",
   "execution_count": null,
   "id": "aa533021",
   "metadata": {
    "ExecuteTime": {
     "end_time": "2023-02-21T17:20:36.650420Z",
     "start_time": "2023-02-21T17:20:36.644996Z"
    }
   },
   "outputs": [],
   "source": [
    "\"\"\"\n",
    "shap.plots.waterfall(shap_values[0])\n",
    "\"\"\""
   ]
  },
  {
   "cell_type": "code",
   "execution_count": null,
   "id": "94ddcdb5",
   "metadata": {
    "ExecuteTime": {
     "end_time": "2023-02-21T17:20:36.862939Z",
     "start_time": "2023-02-21T17:20:36.851820Z"
    }
   },
   "outputs": [],
   "source": [
    "\"\"\"\n",
    "\n",
    "explainer = shap.TreeExplainer(model, X_train)\n",
    "shap_values = explainer(X_train)\n",
    "shap.plots.waterfall(shap_values[0])\n",
    "\"\"\""
   ]
  },
  {
   "cell_type": "code",
   "execution_count": null,
   "id": "3045837f",
   "metadata": {
    "ExecuteTime": {
     "end_time": "2023-02-21T17:23:42.440233Z",
     "start_time": "2023-02-21T17:23:42.436208Z"
    }
   },
   "outputs": [],
   "source": [
    "\"\"\"\n",
    "shap.plots.waterfall(shap_values[0])\n",
    "\"\"\""
   ]
  }
 ],
 "metadata": {
  "hide_input": false,
  "kernelspec": {
   "display_name": "env",
   "language": "python",
   "name": "python3"
  },
  "language_info": {
   "codemirror_mode": {
    "name": "ipython",
    "version": 3
   },
   "file_extension": ".py",
   "mimetype": "text/x-python",
   "name": "python",
   "nbconvert_exporter": "python",
   "pygments_lexer": "ipython3",
   "version": "3.8.4"
  },
  "vscode": {
   "interpreter": {
    "hash": "dbd2ca7840966d932f06b43495d3f9f6c0833b5173c09bc41648504419720194"
   }
  }
 },
 "nbformat": 4,
 "nbformat_minor": 5
}

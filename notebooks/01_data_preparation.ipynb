{
 "cells": [
  {
   "cell_type": "markdown",
   "id": "fa6f3542",
   "metadata": {},
   "source": [
    "\n",
    "## Import "
   ]
  },
  {
   "cell_type": "code",
   "execution_count": null,
   "id": "aa36baa6",
   "metadata": {
    "ExecuteTime": {
     "end_time": "2023-02-21T17:15:27.330789Z",
     "start_time": "2023-02-21T17:15:27.326648Z"
    }
   },
   "outputs": [],
   "source": [
    "cd .."
   ]
  },
  {
   "cell_type": "code",
   "execution_count": null,
   "id": "b6b48e74",
   "metadata": {
    "ExecuteTime": {
     "end_time": "2023-02-21T17:15:27.964474Z",
     "start_time": "2023-02-21T17:15:27.943955Z"
    }
   },
   "outputs": [],
   "source": [
    "pwd"
   ]
  },
  {
   "cell_type": "code",
   "execution_count": null,
   "id": "e9be51ee",
   "metadata": {
    "ExecuteTime": {
     "end_time": "2023-02-21T17:15:30.705082Z",
     "start_time": "2023-02-21T17:15:29.298285Z"
    }
   },
   "outputs": [],
   "source": [
    "import os, sys, pickle\n",
    "\n",
    "import requests\n",
    "\n",
    "import pandas as pd\n",
    "import numpy as np\n",
    "\n",
    "import matplotlib.pyplot as plt \n",
    "import seaborn as sns\n",
    "sns.set()\n",
    "import plotly.express as px\n",
    "\n",
    "from sklearn.model_selection import * \n",
    "from sklearn.compose import *\n",
    "from sklearn.pipeline import *\n",
    "from sklearn.impute import * \n",
    "from sklearn.preprocessing import * \n",
    "from sklearn.ensemble import * \n",
    "# from xgboost import XGBClassifier\n",
    "\n",
    "\n",
    "\n",
    "import shap"
   ]
  },
  {
   "cell_type": "markdown",
   "id": "ecf15b7d",
   "metadata": {},
   "source": [
    "## Load data"
   ]
  },
  {
   "cell_type": "code",
   "execution_count": null,
   "id": "ca8e38cb",
   "metadata": {
    "ExecuteTime": {
     "end_time": "2023-02-21T17:15:31.146000Z",
     "start_time": "2023-02-21T17:15:31.140228Z"
    }
   },
   "outputs": [],
   "source": [
    "url = \"https://gist.githubusercontent.com/AlexandreGazagnes/9018022652ba0933dd39c9df8a600292/raw/0845ef4c2df4806bb05c8c7423dc75d93e37400f/titanic_train_raw_csv\""
   ]
  },
  {
   "cell_type": "code",
   "execution_count": null,
   "id": "60bb04b7",
   "metadata": {},
   "outputs": [],
   "source": [
    "data = \"./data/\"\n",
    "cleaned = \"./data/cleaned/\"\n",
    "source = \"./data/source/\""
   ]
  },
  {
   "cell_type": "code",
   "execution_count": null,
   "id": "a9f425df",
   "metadata": {
    "ExecuteTime": {
     "end_time": "2023-02-21T17:15:31.376080Z",
     "start_time": "2023-02-21T17:15:31.319975Z"
    }
   },
   "outputs": [],
   "source": [
    "df = pd.read_csv (url)"
   ]
  },
  {
   "cell_type": "code",
   "execution_count": null,
   "id": "c3d26215",
   "metadata": {
    "ExecuteTime": {
     "end_time": "2023-02-21T17:15:31.504611Z",
     "start_time": "2023-02-21T17:15:31.478434Z"
    }
   },
   "outputs": [],
   "source": [
    "df.head()"
   ]
  },
  {
   "cell_type": "code",
   "execution_count": null,
   "id": "4924d4ec",
   "metadata": {
    "ExecuteTime": {
     "end_time": "2023-02-21T17:15:31.660228Z",
     "start_time": "2023-02-21T17:15:31.648195Z"
    }
   },
   "outputs": [],
   "source": [
    "df.columns"
   ]
  },
  {
   "cell_type": "markdown",
   "id": "d223c968",
   "metadata": {},
   "source": [
    "## Select "
   ]
  },
  {
   "cell_type": "code",
   "execution_count": null,
   "id": "e4f65fdc",
   "metadata": {
    "ExecuteTime": {
     "end_time": "2023-02-21T17:15:32.147260Z",
     "start_time": "2023-02-21T17:15:32.127747Z"
    }
   },
   "outputs": [],
   "source": [
    "cols = [\"PassengerId\", \"Survived\", \"Pclass\", \"Sex\", \"Age\", \"SibSp\", \"Parch\", \"Fare\", \"Embarked\"]\n",
    "df = df.loc[:, cols]\n",
    "df.head()"
   ]
  },
  {
   "cell_type": "code",
   "execution_count": null,
   "id": "e3721246",
   "metadata": {
    "ExecuteTime": {
     "end_time": "2023-02-21T17:15:32.300348Z",
     "start_time": "2023-02-21T17:15:32.288972Z"
    }
   },
   "outputs": [],
   "source": [
    "\"\"\"categorical_features = [\"Embarked\", \"Sex\"]\n",
    "for cat in categorical_features : \n",
    "    df[cat] = pd.Categorical(df[cat])\n",
    "\n",
    "df.head()\n",
    "\"\"\""
   ]
  },
  {
   "cell_type": "code",
   "execution_count": null,
   "id": "eeb59fd0",
   "metadata": {
    "ExecuteTime": {
     "end_time": "2023-02-21T17:15:32.891519Z",
     "start_time": "2023-02-21T17:15:32.874549Z"
    }
   },
   "outputs": [],
   "source": [
    "df.info()"
   ]
  },
  {
   "cell_type": "markdown",
   "id": "9affa987",
   "metadata": {},
   "source": [
    "## Feat Eng."
   ]
  },
  {
   "cell_type": "code",
   "execution_count": null,
   "id": "0ad3e409",
   "metadata": {},
   "outputs": [],
   "source": [
    "df.Sex.value_counts()"
   ]
  },
  {
   "cell_type": "code",
   "execution_count": null,
   "id": "37b6ec6d",
   "metadata": {},
   "outputs": [],
   "source": [
    "df[\"Sex\"] = df[\"Sex\"].apply(lambda i : 1 if i.strip() ==\"male\" else 0)\n",
    "df.Sex.value_counts()"
   ]
  },
  {
   "cell_type": "code",
   "execution_count": null,
   "id": "dfb569a3",
   "metadata": {},
   "outputs": [],
   "source": [
    "try : \n",
    "    df[\"Age\"] = df[\"Age\"].astype(int)\n",
    "    df.Age.head()\n",
    "except Exception as e : \n",
    "    print(e)"
   ]
  },
  {
   "cell_type": "markdown",
   "id": "87493bcd",
   "metadata": {},
   "source": [
    "# Export "
   ]
  },
  {
   "cell_type": "code",
   "execution_count": null,
   "id": "cd345333",
   "metadata": {
    "ExecuteTime": {
     "end_time": "2023-02-21T17:15:33.237738Z",
     "start_time": "2023-02-21T17:15:33.228110Z"
    }
   },
   "outputs": [],
   "source": [
    "try : \n",
    "    os.mkdir(\"./data/\")\n",
    "except Exception as e : \n",
    "    print(e)"
   ]
  },
  {
   "cell_type": "code",
   "execution_count": null,
   "id": "844b3c2d",
   "metadata": {
    "ExecuteTime": {
     "end_time": "2023-02-21T17:15:33.386489Z",
     "start_time": "2023-02-21T17:15:33.382200Z"
    }
   },
   "outputs": [],
   "source": [
    "try : \n",
    "    os.mkdir(cleaned)\n",
    "except Exception as e : \n",
    "    print(e)"
   ]
  },
  {
   "cell_type": "code",
   "execution_count": null,
   "id": "40c52950",
   "metadata": {
    "ExecuteTime": {
     "end_time": "2023-02-21T17:15:33.548974Z",
     "start_time": "2023-02-21T17:15:33.532291Z"
    }
   },
   "outputs": [],
   "source": [
    "df.to_csv(cleaned+\"df.csv\", index=False)"
   ]
  },
  {
   "cell_type": "code",
   "execution_count": null,
   "id": "568ff457",
   "metadata": {},
   "outputs": [],
   "source": []
  }
 ],
 "metadata": {
  "hide_input": false,
  "kernelspec": {
   "display_name": "env",
   "language": "python",
   "name": "python3"
  },
  "language_info": {
   "codemirror_mode": {
    "name": "ipython",
    "version": 3
   },
   "file_extension": ".py",
   "mimetype": "text/x-python",
   "name": "python",
   "nbconvert_exporter": "python",
   "pygments_lexer": "ipython3",
   "version": "3.8.4"
  },
  "vscode": {
   "interpreter": {
    "hash": "dbd2ca7840966d932f06b43495d3f9f6c0833b5173c09bc41648504419720194"
   }
  }
 },
 "nbformat": 4,
 "nbformat_minor": 5
}
